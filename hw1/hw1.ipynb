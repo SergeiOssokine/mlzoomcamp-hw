{
 "cells": [
  {
   "cell_type": "code",
   "execution_count": 1,
   "id": "a5c2a13d",
   "metadata": {},
   "outputs": [],
   "source": [
    "import numpy as np\n",
    "import pandas as pd"
   ]
  },
  {
   "cell_type": "markdown",
   "id": "1ac345c7",
   "metadata": {},
   "source": [
    "# Question 1"
   ]
  },
  {
   "cell_type": "code",
   "execution_count": 2,
   "id": "35aaf4a1",
   "metadata": {},
   "outputs": [
    {
     "data": {
      "text/plain": [
       "'2.3.2'"
      ]
     },
     "execution_count": 2,
     "metadata": {},
     "output_type": "execute_result"
    }
   ],
   "source": [
    "pd.__version__"
   ]
  },
  {
   "cell_type": "code",
   "execution_count": 3,
   "id": "b71df6f3",
   "metadata": {},
   "outputs": [],
   "source": [
    "df = pd.read_csv(\"./data/car_fuel_efficiency.csv\")"
   ]
  },
  {
   "cell_type": "markdown",
   "id": "432b226a",
   "metadata": {},
   "source": [
    "# Question 2"
   ]
  },
  {
   "cell_type": "code",
   "execution_count": 4,
   "id": "2ec571b9",
   "metadata": {},
   "outputs": [
    {
     "data": {
      "text/plain": [
       "9704"
      ]
     },
     "execution_count": 4,
     "metadata": {},
     "output_type": "execute_result"
    }
   ],
   "source": [
    "df.shape[0]"
   ]
  },
  {
   "cell_type": "markdown",
   "id": "164f31e4",
   "metadata": {},
   "source": [
    "# Question 3"
   ]
  },
  {
   "cell_type": "code",
   "execution_count": 5,
   "id": "3de4b7aa",
   "metadata": {},
   "outputs": [
    {
     "data": {
      "text/plain": [
       "2"
      ]
     },
     "execution_count": 5,
     "metadata": {},
     "output_type": "execute_result"
    }
   ],
   "source": [
    "df[\"fuel_type\"].nunique()"
   ]
  },
  {
   "cell_type": "markdown",
   "id": "352980ec",
   "metadata": {},
   "source": [
    "# Question 4"
   ]
  },
  {
   "cell_type": "code",
   "execution_count": 6,
   "id": "c0eb4986",
   "metadata": {},
   "outputs": [
    {
     "data": {
      "text/plain": [
       "engine_displacement      0\n",
       "num_cylinders          482\n",
       "horsepower             708\n",
       "vehicle_weight           0\n",
       "acceleration           930\n",
       "model_year               0\n",
       "origin                   0\n",
       "fuel_type                0\n",
       "drivetrain               0\n",
       "num_doors              502\n",
       "fuel_efficiency_mpg      0\n",
       "dtype: int64"
      ]
     },
     "execution_count": 6,
     "metadata": {},
     "output_type": "execute_result"
    }
   ],
   "source": [
    "df.isnull().sum()"
   ]
  },
  {
   "cell_type": "markdown",
   "id": "54103d31",
   "metadata": {},
   "source": [
    "So there are 4 columns with null values"
   ]
  },
  {
   "cell_type": "markdown",
   "id": "203fa7fc",
   "metadata": {},
   "source": [
    "# Question 5"
   ]
  },
  {
   "cell_type": "code",
   "execution_count": 7,
   "id": "0149ef8a",
   "metadata": {},
   "outputs": [],
   "source": [
    "df_asian_cars = df[df[\"origin\"] == \"Asia\"]"
   ]
  },
  {
   "cell_type": "code",
   "execution_count": 8,
   "id": "272f9204",
   "metadata": {},
   "outputs": [
    {
     "data": {
      "text/plain": [
       "np.float64(23.759122836520497)"
      ]
     },
     "execution_count": 8,
     "metadata": {},
     "output_type": "execute_result"
    }
   ],
   "source": [
    "df_asian_cars[\"fuel_efficiency_mpg\"].max()"
   ]
  },
  {
   "cell_type": "markdown",
   "id": "c2f04120",
   "metadata": {},
   "source": [
    "# Question 6"
   ]
  },
  {
   "cell_type": "code",
   "execution_count": 9,
   "id": "2b7ba1a4",
   "metadata": {},
   "outputs": [],
   "source": [
    "# Initial median value\n",
    "initial_median = df[\"horsepower\"].median()"
   ]
  },
  {
   "cell_type": "code",
   "execution_count": 10,
   "id": "a9e2241a",
   "metadata": {},
   "outputs": [],
   "source": [
    "# Most frequent value, AKA the mode\n",
    "mode = df[\"horsepower\"].mode().values[0]"
   ]
  },
  {
   "cell_type": "code",
   "execution_count": 11,
   "id": "c2878de5",
   "metadata": {},
   "outputs": [
    {
     "data": {
      "text/plain": [
       "np.float64(152.0)"
      ]
     },
     "execution_count": 11,
     "metadata": {},
     "output_type": "execute_result"
    }
   ],
   "source": [
    "mode"
   ]
  },
  {
   "cell_type": "code",
   "execution_count": 12,
   "id": "a81847a1",
   "metadata": {},
   "outputs": [
    {
     "data": {
      "text/plain": [
       "horsepower\n",
       "152.0    142\n",
       "145.0    141\n",
       "151.0    134\n",
       "148.0    130\n",
       "141.0    130\n",
       "        ... \n",
       "40.0       1\n",
       "57.0       1\n",
       "245.0      1\n",
       "252.0      1\n",
       "61.0       1\n",
       "Name: count, Length: 192, dtype: int64"
      ]
     },
     "execution_count": 12,
     "metadata": {},
     "output_type": "execute_result"
    }
   ],
   "source": [
    "# Let's also compute it by hand\n",
    "df[\"horsepower\"].value_counts().sort_values(ascending=False)"
   ]
  },
  {
   "cell_type": "code",
   "execution_count": 13,
   "id": "f2e428dc",
   "metadata": {},
   "outputs": [],
   "source": [
    "filled_col = df[\"horsepower\"].fillna(mode)"
   ]
  },
  {
   "cell_type": "code",
   "execution_count": 14,
   "id": "afc4bea1",
   "metadata": {},
   "outputs": [],
   "source": [
    "filled_median = filled_col.median()"
   ]
  },
  {
   "cell_type": "code",
   "execution_count": 15,
   "id": "66ef25a0",
   "metadata": {},
   "outputs": [
    {
     "data": {
      "text/plain": [
       "(np.float64(149.0), np.float64(152.0))"
      ]
     },
     "execution_count": 15,
     "metadata": {},
     "output_type": "execute_result"
    }
   ],
   "source": [
    "initial_median, filled_median"
   ]
  },
  {
   "cell_type": "markdown",
   "id": "69295f93",
   "metadata": {},
   "source": [
    "So we see that the median has increased. This is not surprising since we added a bunch of numbers which were greater than the initial median."
   ]
  },
  {
   "cell_type": "markdown",
   "id": "d4fdcecd",
   "metadata": {},
   "source": [
    "# Question 7"
   ]
  },
  {
   "cell_type": "code",
   "execution_count": 16,
   "id": "340ffdf8",
   "metadata": {},
   "outputs": [],
   "source": [
    "X = df_asian_cars[[\"vehicle_weight\", \"model_year\"]].iloc[:7].values"
   ]
  },
  {
   "cell_type": "code",
   "execution_count": 17,
   "id": "a75cff70",
   "metadata": {},
   "outputs": [],
   "source": [
    "XTX = np.dot(X.T, X)"
   ]
  },
  {
   "cell_type": "code",
   "execution_count": 18,
   "id": "679676c0",
   "metadata": {},
   "outputs": [],
   "source": [
    "XTX_i = np.linalg.pinv(XTX)"
   ]
  },
  {
   "cell_type": "code",
   "execution_count": 19,
   "id": "78efc0e9",
   "metadata": {},
   "outputs": [],
   "source": [
    "y = np.array([1100, 1300, 800, 900, 1000, 1100, 1200])"
   ]
  },
  {
   "cell_type": "code",
   "execution_count": 20,
   "id": "510b9b93",
   "metadata": {},
   "outputs": [
    {
     "data": {
      "text/plain": [
       "np.float64(0.5187709081074046)"
      ]
     },
     "execution_count": 20,
     "metadata": {},
     "output_type": "execute_result"
    }
   ],
   "source": [
    "np.dot(np.dot(XTX_i, X.T), y).sum()"
   ]
  },
  {
   "cell_type": "markdown",
   "id": "7ba62dcd",
   "metadata": {},
   "source": [
    "We can also confirm this using the `@` matrix multiplication operator"
   ]
  },
  {
   "cell_type": "code",
   "execution_count": 21,
   "id": "ab74a73f",
   "metadata": {},
   "outputs": [
    {
     "data": {
      "text/plain": [
       "np.float64(0.5187709081074016)"
      ]
     },
     "execution_count": 21,
     "metadata": {},
     "output_type": "execute_result"
    }
   ],
   "source": [
    "(np.linalg.inv(X.T @ X) @ X.T @ y).sum()"
   ]
  }
 ],
 "metadata": {
  "kernelspec": {
   "display_name": ".mlzoomcamp",
   "language": "python",
   "name": "python3"
  },
  "language_info": {
   "codemirror_mode": {
    "name": "ipython",
    "version": 3
   },
   "file_extension": ".py",
   "mimetype": "text/x-python",
   "name": "python",
   "nbconvert_exporter": "python",
   "pygments_lexer": "ipython3",
   "version": "3.13.2"
  }
 },
 "nbformat": 4,
 "nbformat_minor": 5
}
