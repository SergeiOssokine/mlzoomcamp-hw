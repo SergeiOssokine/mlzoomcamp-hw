{
 "cells": [
  {
   "cell_type": "code",
   "execution_count": 1,
   "id": "eda882a7",
   "metadata": {},
   "outputs": [],
   "source": [
    "import matplotlib.pyplot as plt\n",
    "import numpy as np\n",
    "import pandas as pd\n",
    "import sklearn\n",
    "from scipy.interpolate import InterpolatedUnivariateSpline\n",
    "from scipy.optimize import root\n",
    "from sklearn.feature_extraction import DictVectorizer\n",
    "from sklearn.linear_model import LogisticRegression\n",
    "from sklearn.metrics import roc_auc_score\n",
    "from sklearn.model_selection import KFold, train_test_split\n",
    "from tqdm import tqdm"
   ]
  },
  {
   "cell_type": "code",
   "execution_count": 2,
   "id": "b0b35e95",
   "metadata": {},
   "outputs": [],
   "source": [
    "df = pd.read_csv(\"./data/course_lead_scoring.csv\")"
   ]
  },
  {
   "cell_type": "code",
   "execution_count": 3,
   "id": "5cfd4996",
   "metadata": {},
   "outputs": [
    {
     "data": {
      "text/plain": [
       "lead_source                 128\n",
       "industry                    134\n",
       "number_of_courses_viewed      0\n",
       "annual_income               181\n",
       "employment_status           100\n",
       "location                     63\n",
       "interaction_count             0\n",
       "lead_score                    0\n",
       "converted                     0\n",
       "dtype: int64"
      ]
     },
     "execution_count": 3,
     "metadata": {},
     "output_type": "execute_result"
    }
   ],
   "source": [
    "df.isnull().sum()"
   ]
  },
  {
   "cell_type": "code",
   "execution_count": 4,
   "id": "6047e6b7",
   "metadata": {},
   "outputs": [],
   "source": [
    "categorical_features = df.columns[(df.dtypes == \"object\").values].to_list()\n",
    "numerical_features = df.columns[(df.dtypes != \"object\").values].to_list()"
   ]
  },
  {
   "cell_type": "code",
   "execution_count": 5,
   "id": "89c8535d",
   "metadata": {},
   "outputs": [],
   "source": [
    "for c in categorical_features:\n",
    "    df[c] = df[c].fillna(\"NA\")\n",
    "for c in numerical_features:\n",
    "    df[c] = df[c].fillna(0.0)"
   ]
  },
  {
   "cell_type": "code",
   "execution_count": 6,
   "id": "c13ca3ee",
   "metadata": {},
   "outputs": [
    {
     "data": {
      "text/plain": [
       "lead_source                 0\n",
       "industry                    0\n",
       "number_of_courses_viewed    0\n",
       "annual_income               0\n",
       "employment_status           0\n",
       "location                    0\n",
       "interaction_count           0\n",
       "lead_score                  0\n",
       "converted                   0\n",
       "dtype: int64"
      ]
     },
     "execution_count": 6,
     "metadata": {},
     "output_type": "execute_result"
    }
   ],
   "source": [
    "df.isnull().sum()"
   ]
  },
  {
   "cell_type": "code",
   "execution_count": 7,
   "id": "fbc97e46",
   "metadata": {},
   "outputs": [
    {
     "data": {
      "text/plain": [
       "'converted'"
      ]
     },
     "execution_count": 7,
     "metadata": {},
     "output_type": "execute_result"
    }
   ],
   "source": [
    "numerical_features.pop()"
   ]
  },
  {
   "cell_type": "code",
   "execution_count": 8,
   "id": "0f07fb5b",
   "metadata": {},
   "outputs": [],
   "source": [
    "def train_test_val_split(\n",
    "    df: pd.DataFrame,\n",
    "    val_frac: float = 0.2,\n",
    "    test_frac: float = 0.2,\n",
    "    random_state: int = 42,\n",
    "    target_var: str = \"y\",\n",
    "):\n",
    "    \"\"\"Perform train,validation,test split. Returns data frames of predictors and\n",
    "    and arrays of targets for train,validation and test.\n",
    "\n",
    "    Args:\n",
    "        df (pd.DataFrame): The raw data\n",
    "        val_frac (float, optional): The fraction of total to use for validation.\n",
    "            Defaults to 0.2.\n",
    "        test_frac (float, optional): The fraction of total to use for test.\n",
    "            Defaults to 0.2.\n",
    "        random_state (int, optional): The random state. Defaults to 42.\n",
    "        target_var (str,optional): The target variable. Defaults to y.\n",
    "    Returns:\n",
    "        tuple: (df_train,df_val,df_test,y_train,y_val,y_test)\n",
    "    \"\"\"\n",
    "    df_full_train, df_test = train_test_split(\n",
    "        df, test_size=test_frac, random_state=random_state\n",
    "    )\n",
    "    df_train, df_val = train_test_split(\n",
    "        df_full_train, test_size=val_frac / (1 - test_frac), random_state=random_state\n",
    "    )\n",
    "\n",
    "    y_train = df_train[target_var]\n",
    "    y_val = df_val[target_var]\n",
    "    y_test = df_test[target_var]\n",
    "\n",
    "    df_train = df_train.drop(columns=[target_var])\n",
    "    df_val = df_val.drop(columns=[target_var])\n",
    "    df_test = df_test.drop(columns=[target_var])\n",
    "\n",
    "    df_train = df_train.reset_index(drop=True)\n",
    "    df_val = df_val.reset_index(drop=True)\n",
    "    df_test = df_test.reset_index(drop=True)\n",
    "\n",
    "    return df_train, df_val, df_test, y_train, y_val, y_test"
   ]
  },
  {
   "cell_type": "code",
   "execution_count": 9,
   "id": "d064b791",
   "metadata": {},
   "outputs": [],
   "source": [
    "df_train, df_val, df_test, y_train, y_val, y_test = train_test_val_split(\n",
    "    df, target_var=\"converted\"\n",
    ")"
   ]
  },
  {
   "cell_type": "markdown",
   "id": "5b7dc9ef",
   "metadata": {},
   "source": [
    "# Question 1"
   ]
  },
  {
   "cell_type": "code",
   "execution_count": 10,
   "id": "502c6c17",
   "metadata": {},
   "outputs": [],
   "source": [
    "numerical_features = df_train.columns[(df_train.dtypes != \"object\").values].to_list()\n",
    "categorical_features = df_train.columns[(df_train.dtypes == \"object\").values].to_list()"
   ]
  },
  {
   "cell_type": "code",
   "execution_count": 11,
   "id": "3bbeb80f",
   "metadata": {},
   "outputs": [],
   "source": [
    "scores = []\n",
    "for f in numerical_features:\n",
    "    auc_score = roc_auc_score(y_train, df_train[f])\n",
    "    if auc_score < 0.5:\n",
    "        # Note that we can get the auc_score for negatively correlated\n",
    "        # vars just by subtracting the score from 1\n",
    "        check = 1 - auc_score\n",
    "        # Invert directly\n",
    "        auc_score = roc_auc_score(y_train, -df_train[f])\n",
    "        # Check they are equal to numerical precison\n",
    "        np.testing.assert_almost_equal(auc_score, check, decimal=14)\n",
    "    scores.append(auc_score)\n",
    "df_sc = pd.DataFrame(zip(numerical_features, scores), columns=[\"Feature\", \"AUC\"])"
   ]
  },
  {
   "cell_type": "code",
   "execution_count": 12,
   "id": "1ba33298",
   "metadata": {},
   "outputs": [
    {
     "data": {
      "text/html": [
       "<div>\n",
       "<style scoped>\n",
       "    .dataframe tbody tr th:only-of-type {\n",
       "        vertical-align: middle;\n",
       "    }\n",
       "\n",
       "    .dataframe tbody tr th {\n",
       "        vertical-align: top;\n",
       "    }\n",
       "\n",
       "    .dataframe thead th {\n",
       "        text-align: right;\n",
       "    }\n",
       "</style>\n",
       "<table border=\"1\" class=\"dataframe\">\n",
       "  <thead>\n",
       "    <tr style=\"text-align: right;\">\n",
       "      <th></th>\n",
       "      <th>Feature</th>\n",
       "      <th>AUC</th>\n",
       "    </tr>\n",
       "  </thead>\n",
       "  <tbody>\n",
       "    <tr>\n",
       "      <th>0</th>\n",
       "      <td>number_of_courses_viewed</td>\n",
       "      <td>0.755011</td>\n",
       "    </tr>\n",
       "    <tr>\n",
       "      <th>1</th>\n",
       "      <td>annual_income</td>\n",
       "      <td>0.529092</td>\n",
       "    </tr>\n",
       "    <tr>\n",
       "      <th>2</th>\n",
       "      <td>interaction_count</td>\n",
       "      <td>0.719617</td>\n",
       "    </tr>\n",
       "    <tr>\n",
       "      <th>3</th>\n",
       "      <td>lead_score</td>\n",
       "      <td>0.630443</td>\n",
       "    </tr>\n",
       "  </tbody>\n",
       "</table>\n",
       "</div>"
      ],
      "text/plain": [
       "                    Feature       AUC\n",
       "0  number_of_courses_viewed  0.755011\n",
       "1             annual_income  0.529092\n",
       "2         interaction_count  0.719617\n",
       "3                lead_score  0.630443"
      ]
     },
     "execution_count": 12,
     "metadata": {},
     "output_type": "execute_result"
    }
   ],
   "source": [
    "df_sc"
   ]
  },
  {
   "cell_type": "markdown",
   "id": "aa6cd655",
   "metadata": {},
   "source": [
    "`number_of_courses_viewed` has the highest AUC"
   ]
  },
  {
   "cell_type": "markdown",
   "id": "c48fd939",
   "metadata": {},
   "source": [
    "# Question 2"
   ]
  },
  {
   "cell_type": "code",
   "execution_count": 13,
   "id": "a37ef625",
   "metadata": {},
   "outputs": [],
   "source": [
    "def train_logistic_regression(\n",
    "    df_train: pd.DataFrame, y_train: pd.Series, random_state: int = 1, C: float = 1.0\n",
    "):\n",
    "    \"\"\"Train a logistic regression model on the data. Performs one-hot\n",
    "    encoding for all categorical vars.\n",
    "\n",
    "    Args:\n",
    "        df_train (pd.DataFrame): The training predictors\n",
    "        y_train (pd.Series): The target variable\n",
    "        random_state (int, optional): Random state to use. Defaults to 1.\n",
    "        C (float, optional): Regularization parameter. Defaults to 1.0.\n",
    "\n",
    "    Returns:\n",
    "        tuple: DictVectorizer,trained model\n",
    "    \"\"\"\n",
    "    train_dicts = df_train.to_dict(orient=\"records\")\n",
    "    dv = DictVectorizer(sparse=False)\n",
    "    X_train = dv.fit_transform(train_dicts)\n",
    "    model = LogisticRegression(\n",
    "        solver=\"liblinear\", C=C, max_iter=1000, random_state=random_state\n",
    "    )\n",
    "    model.fit(X_train, y_train)\n",
    "    return dv, model\n",
    "\n",
    "\n",
    "def predict(\n",
    "    dv: DictVectorizer, model: sklearn.base.BaseEstimator, df: pd.DataFrame\n",
    ") -> np.ndarray:\n",
    "    dicts = df.to_dict(orient=\"records\")\n",
    "    X = dv.transform(dicts)\n",
    "    y_pred = model.predict_proba(X)[:, 1]\n",
    "    return y_pred"
   ]
  },
  {
   "cell_type": "code",
   "execution_count": 14,
   "id": "3e2a4b71",
   "metadata": {},
   "outputs": [],
   "source": [
    "dv, model = train_logistic_regression(df_train, y_train, random_state=1)\n",
    "y_pred = predict(dv, model, df_val)\n",
    "auc_score = roc_auc_score(y_val, y_pred)"
   ]
  },
  {
   "cell_type": "code",
   "execution_count": 15,
   "id": "e701f31b",
   "metadata": {},
   "outputs": [
    {
     "data": {
      "text/plain": [
       "np.float64(0.855)"
      ]
     },
     "execution_count": 15,
     "metadata": {},
     "output_type": "execute_result"
    }
   ],
   "source": [
    "np.round(auc_score, 3)"
   ]
  },
  {
   "cell_type": "markdown",
   "id": "0281ffcb",
   "metadata": {},
   "source": [
    "# Question 3"
   ]
  },
  {
   "cell_type": "code",
   "execution_count": 16,
   "id": "368b397d",
   "metadata": {},
   "outputs": [],
   "source": [
    "thresholds = np.linspace(0, 1, 100, endpoint=False)"
   ]
  },
  {
   "cell_type": "code",
   "execution_count": 17,
   "id": "6d224ae9",
   "metadata": {},
   "outputs": [],
   "source": [
    "def compute_precision_recall(\n",
    "    y_true: np.ndarray, y_pred: np.ndarray, thresholds: np.ndarray\n",
    ") -> pd.DataFrame:\n",
    "    \"\"\"Computes precision and recall (along with tp,fp,tn,fn) based on\n",
    "    the true labels, the predicted probabilities and an array of\n",
    "    thresholds.\n",
    "\n",
    "    Args:\n",
    "        y_true (np.ndarray): The true labels (must be either 0 or 1)\n",
    "        y_pred (np.ndarray): The predicted probabilities (must be in [0,1])\n",
    "        thresholds (np.ndarray): The array of thresholds (must be in [0,1))\n",
    "\n",
    "    Returns:\n",
    "        pd.DataFrame: The dataframe with results\n",
    "    \"\"\"\n",
    "    scores = []\n",
    "    actual_positive = y_true == 1\n",
    "    actual_negative = y_true == 0\n",
    "    for t in thresholds:\n",
    "\n",
    "        predict_positive = y_pred >= t\n",
    "        predict_negative = y_pred < t\n",
    "\n",
    "        tp = (predict_positive & actual_positive).sum()\n",
    "        tn = (predict_negative & actual_negative).sum()\n",
    "\n",
    "        fp = (predict_positive & actual_negative).sum()\n",
    "        fn = (predict_negative & actual_positive).sum()\n",
    "\n",
    "        scores.append((t, tp, fp, fn, tn))\n",
    "\n",
    "    df_scores = pd.DataFrame(scores, columns=[\"t\", \"TP\", \"FP\", \"FN\", \"TN\"])\n",
    "    recall = df_scores.TP / (df_scores.TP + df_scores.FN)\n",
    "    precision = df_scores.TP / (df_scores.TP + df_scores.FP)\n",
    "    df_scores[\"precision\"] = precision\n",
    "    df_scores[\"recall\"] = recall\n",
    "    return df_scores"
   ]
  },
  {
   "cell_type": "code",
   "execution_count": 18,
   "id": "72749567",
   "metadata": {},
   "outputs": [],
   "source": [
    "df_pr = compute_precision_recall(y_val, y_pred, thresholds)"
   ]
  },
  {
   "cell_type": "code",
   "execution_count": 19,
   "id": "b1e4967e",
   "metadata": {},
   "outputs": [],
   "source": [
    "def compute_intersection(t: np.array, p: np.array, r: np.array) -> float:\n",
    "    \"\"\"Compute the approximate intersection of the precision and recall\n",
    "    curves, represented as arrays sampled at different thresholds t.\n",
    "    This is done by interpolating both precision and recall as cubic splines\n",
    "    and then solving numerically the equation p(t)-r(t) = 0.\n",
    "\n",
    "    Args:\n",
    "        t (np.array): The array of thresholds\n",
    "        p (np.array): The precision values\n",
    "        r (np.array): The recall values\n",
    "\n",
    "    Returns:\n",
    "        float: The intersection point\n",
    "    \"\"\"\n",
    "    intrp_p = InterpolatedUnivariateSpline(t, p)\n",
    "    intrp_r = InterpolatedUnivariateSpline(t, r)\n",
    "\n",
    "    def obj_func(t):\n",
    "        return intrp_p(t) - intrp_r(t)\n",
    "\n",
    "    res = root(obj_func, x0=0.7)\n",
    "    # Check the numerical root finding has converged\n",
    "    # assert res.success, \"The numerical solution has failed to converge!\"\n",
    "    return res.x[0]"
   ]
  },
  {
   "cell_type": "code",
   "execution_count": 20,
   "id": "fbcf50f1",
   "metadata": {},
   "outputs": [],
   "source": [
    "idx = df_pr[\"precision\"].isna()\n",
    "x_intercept = compute_intersection(\n",
    "    df_pr.t.values[~idx], df_pr.precision.values[~idx], df_pr.recall.values[~idx]\n",
    ")"
   ]
  },
  {
   "cell_type": "code",
   "execution_count": 21,
   "id": "fa1f374f",
   "metadata": {},
   "outputs": [],
   "source": [
    "intrp = InterpolatedUnivariateSpline(df_pr.t.values, df_pr.precision.values)"
   ]
  },
  {
   "cell_type": "code",
   "execution_count": 22,
   "id": "99fd010d",
   "metadata": {},
   "outputs": [
    {
     "data": {
      "text/plain": [
       "<matplotlib.legend.Legend at 0x7341b6cf2ba0>"
      ]
     },
     "execution_count": 22,
     "metadata": {},
     "output_type": "execute_result"
    },
    {
     "data": {
      "image/png": "[encoded data removed]",
      "text/plain": [
       "<Figure size 640x480 with 1 Axes>"
      ]
     },
     "metadata": {},
     "output_type": "display_data"
    }
   ],
   "source": [
    "plt.plot(df_pr.t, df_pr.precision, label=\"Precision\")\n",
    "plt.plot(df_pr.t, df_pr.recall, label=\"Recall\")\n",
    "plt.axvline(x=x_intercept, ls=\"--\", color=\"k\")\n",
    "plt.xlabel(\"Threshold\")\n",
    "plt.legend(loc=\"best\")"
   ]
  },
  {
   "cell_type": "code",
   "execution_count": 23,
   "id": "ffa8e525",
   "metadata": {},
   "outputs": [
    {
     "name": "stdout",
     "output_type": "stream",
     "text": [
      "The intersection of the curves is at 0.643\n"
     ]
    }
   ],
   "source": [
    "print(f\"The intersection of the curves is at {np.round(x_intercept,3)}\")"
   ]
  },
  {
   "cell_type": "markdown",
   "id": "4c6e71e0",
   "metadata": {},
   "source": [
    "# Question 4"
   ]
  },
  {
   "cell_type": "code",
   "execution_count": 24,
   "id": "77a3fb83",
   "metadata": {},
   "outputs": [],
   "source": [
    "def compute_f1_score(p, r):\n",
    "    return 2 * p * r / (p + r)"
   ]
  },
  {
   "cell_type": "code",
   "execution_count": 25,
   "id": "ee1d46aa",
   "metadata": {},
   "outputs": [],
   "source": [
    "f1_scores = compute_f1_score(df_pr[~idx].precision.values, df_pr[~idx].recall.values)"
   ]
  },
  {
   "cell_type": "code",
   "execution_count": 26,
   "id": "c626ab8f",
   "metadata": {},
   "outputs": [],
   "source": [
    "crude_max = df_pr[~idx].t.iloc[f1_scores.argmax()]"
   ]
  },
  {
   "cell_type": "code",
   "execution_count": 27,
   "id": "f0492af1",
   "metadata": {},
   "outputs": [
    {
     "data": {
      "text/plain": [
       "Text(0, 0.5, '$F_{1}$')"
      ]
     },
     "execution_count": 27,
     "metadata": {},
     "output_type": "execute_result"
    },
    {
     "data": {
      "image/png": "[encoded data removed]",
      "text/plain": [
       "<Figure size 640x480 with 1 Axes>"
      ]
     },
     "metadata": {},
     "output_type": "display_data"
    }
   ],
   "source": [
    "plt.plot(df_pr[~idx].t, f1_scores)\n",
    "plt.axvline(x=crude_max, ls=\"--\", color=\"k\")\n",
    "plt.xlabel(\"Thresholds\")\n",
    "plt.ylabel(r\"$F_{1}$\")"
   ]
  },
  {
   "cell_type": "code",
   "execution_count": 28,
   "id": "ebb78754",
   "metadata": {},
   "outputs": [
    {
     "data": {
      "text/plain": [
       "np.float64(0.5700000000000001)"
      ]
     },
     "execution_count": 28,
     "metadata": {},
     "output_type": "execute_result"
    }
   ],
   "source": [
    "crude_max"
   ]
  },
  {
   "cell_type": "markdown",
   "id": "76ed51ee",
   "metadata": {},
   "source": [
    "# Question 5"
   ]
  },
  {
   "cell_type": "code",
   "execution_count": 29,
   "id": "3034166d",
   "metadata": {},
   "outputs": [],
   "source": [
    "kfold = KFold(n_splits=5, shuffle=True, random_state=1)\n",
    "df_full_train = pd.concat((df_train, df_val))\n",
    "y_full_train = np.concatenate((y_train, y_val))"
   ]
  },
  {
   "cell_type": "code",
   "execution_count": 30,
   "id": "b56fd044",
   "metadata": {},
   "outputs": [],
   "source": [
    "scores = []\n",
    "for train_idx, val_idx in kfold.split(df_full_train):\n",
    "    df_train = df_full_train.iloc[train_idx]\n",
    "    df_val = df_full_train.iloc[val_idx]\n",
    "\n",
    "    y_train = y_full_train[train_idx]\n",
    "    y_val = y_full_train[val_idx]\n",
    "\n",
    "    dv, model = train_logistic_regression(df_train, y_train)\n",
    "    y_pred = predict(dv, model, df_val)\n",
    "\n",
    "    auc = roc_auc_score(y_val, y_pred)\n",
    "    scores.append(auc)"
   ]
  },
  {
   "cell_type": "code",
   "execution_count": 31,
   "id": "808d285d",
   "metadata": {},
   "outputs": [],
   "source": [
    "scores = np.array(scores)"
   ]
  },
  {
   "cell_type": "code",
   "execution_count": 32,
   "id": "0f763c46",
   "metadata": {},
   "outputs": [
    {
     "data": {
      "text/plain": [
       "np.float64(0.007529650176121231)"
      ]
     },
     "execution_count": 32,
     "metadata": {},
     "output_type": "execute_result"
    }
   ],
   "source": [
    "np.std(scores)"
   ]
  },
  {
   "cell_type": "markdown",
   "id": "b4e7c901",
   "metadata": {},
   "source": [
    "# Question 6"
   ]
  },
  {
   "cell_type": "code",
   "execution_count": 33,
   "id": "9ffe9e38",
   "metadata": {},
   "outputs": [
    {
     "name": "stderr",
     "output_type": "stream",
     "text": [
      "100%|██████████| 3/3 [00:00<00:00, 25.64it/s]"
     ]
    },
    {
     "name": "stdout",
     "output_type": "stream",
     "text": [
      "C=1e-06, AUC = 0.542±0.042\n",
      "C=0.001, AUC = 0.87±0.013\n",
      "C=1, AUC = 0.827±0.008\n"
     ]
    },
    {
     "name": "stderr",
     "output_type": "stream",
     "text": [
      "\n"
     ]
    }
   ],
   "source": [
    "for C in tqdm([0.000001, 0.001, 1]):\n",
    "    kfold = KFold(n_splits=5, shuffle=True, random_state=1)\n",
    "\n",
    "    scores = []\n",
    "\n",
    "    for train_idx, val_idx in kfold.split(df_full_train):\n",
    "        df_train = df_full_train.iloc[train_idx]\n",
    "        df_val = df_full_train.iloc[val_idx]\n",
    "\n",
    "        y_train = y_full_train[train_idx]\n",
    "        y_val = y_full_train[val_idx]\n",
    "\n",
    "        dv, model = train_logistic_regression(df_train, y_train, C=C)\n",
    "        y_pred = predict(dv, model, df_val)\n",
    "\n",
    "        auc = roc_auc_score(y_val, y_pred)\n",
    "        scores.append(auc)\n",
    "    print(f\"C={C}, AUC = {np.round(np.mean(scores),3)}±{np.round(np.std(scores),3)}\")"
   ]
  },
  {
   "cell_type": "markdown",
   "id": "3769061b",
   "metadata": {},
   "source": [
    "Thus C=0.001 gives the best AUC score"
   ]
  }
 ],
 "metadata": {
  "kernelspec": {
   "display_name": ".mlzoomcamp",
   "language": "python",
   "name": "python3"
  },
  "language_info": {
   "codemirror_mode": {
    "name": "ipython",
    "version": 3
   },
   "file_extension": ".py",
   "mimetype": "text/x-python",
   "name": "python",
   "nbconvert_exporter": "python",
   "pygments_lexer": "ipython3",
   "version": "3.13.2"
  }
 },
 "nbformat": 4,
 "nbformat_minor": 5
}
