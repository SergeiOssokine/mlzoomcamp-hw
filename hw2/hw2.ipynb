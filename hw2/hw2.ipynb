{
 "cells": [
  {
   "cell_type": "code",
   "execution_count": 34,
   "id": "b308afca",
   "metadata": {},
   "outputs": [],
   "source": [
    "import matplotlib.pyplot as plt\n",
    "import numpy as np\n",
    "import pandas as pd\n",
    "import seaborn as sns"
   ]
  },
  {
   "cell_type": "code",
   "execution_count": 4,
   "id": "a19c194b",
   "metadata": {},
   "outputs": [],
   "source": [
    "df = pd.read_csv(\"../hw1/data/car_fuel_efficiency.csv\")"
   ]
  },
  {
   "cell_type": "code",
   "execution_count": null,
   "id": "fd531c60",
   "metadata": {},
   "outputs": [],
   "source": [
    "df = df[\n",
    "    [\n",
    "        \"engine_displacement\",\n",
    "        \"horsepower\",\n",
    "        \"vehicle_weight\",\n",
    "        \"model_year\",\n",
    "        \"fuel_efficiency_mpg\",\n",
    "    ]\n",
    "]"
   ]
  },
  {
   "cell_type": "markdown",
   "id": "1fca93aa",
   "metadata": {},
   "source": [
    "# EDA"
   ]
  },
  {
   "cell_type": "code",
   "execution_count": null,
   "id": "91a07339",
   "metadata": {},
   "outputs": [
    {
     "data": {
      "text/plain": [
       "<seaborn.axisgrid.FacetGrid at 0x7bc95733d160>"
      ]
     },
     "execution_count": 7,
     "metadata": {},
     "output_type": "execute_result"
    },
    {
     "data": {
      "image/png": "[encoded data removed]",
      "text/plain": [
       "<Figure size 500x500 with 1 Axes>"
      ]
     },
     "metadata": {},
     "output_type": "display_data"
    }
   ],
   "source": [
    "sns.displot(df, x=\"fuel_efficiency_mpg\")"
   ]
  },
  {
   "cell_type": "markdown",
   "id": "cb80900d",
   "metadata": {},
   "source": [
    "We can see that `fuel_efficiency_mpg` does not have a long tail"
   ]
  },
  {
   "cell_type": "markdown",
   "id": "b6ebe90a",
   "metadata": {},
   "source": [
    "# Question 1"
   ]
  },
  {
   "cell_type": "code",
   "execution_count": 8,
   "id": "bcbf570f",
   "metadata": {},
   "outputs": [
    {
     "data": {
      "text/plain": [
       "engine_displacement      0\n",
       "horsepower             708\n",
       "vehicle_weight           0\n",
       "model_year               0\n",
       "fuel_efficiency_mpg      0\n",
       "dtype: int64"
      ]
     },
     "execution_count": 8,
     "metadata": {},
     "output_type": "execute_result"
    }
   ],
   "source": [
    "df.isnull().sum()"
   ]
  },
  {
   "cell_type": "markdown",
   "id": "838bc4b4",
   "metadata": {},
   "source": [
    "The column with missing values is `horsepower`"
   ]
  },
  {
   "cell_type": "markdown",
   "id": "5b5e3547",
   "metadata": {},
   "source": [
    "# Question 2"
   ]
  },
  {
   "cell_type": "code",
   "execution_count": null,
   "id": "7628c119",
   "metadata": {},
   "outputs": [
    {
     "data": {
      "text/plain": [
       "np.float64(149.0)"
      ]
     },
     "execution_count": 9,
     "metadata": {},
     "output_type": "execute_result"
    }
   ],
   "source": [
    "df[\"horsepower\"].median()"
   ]
  },
  {
   "cell_type": "markdown",
   "id": "504f056e",
   "metadata": {},
   "source": [
    "# Question 3"
   ]
  },
  {
   "cell_type": "code",
   "execution_count": null,
   "id": "e687ad58",
   "metadata": {},
   "outputs": [],
   "source": [
    "def val_test_train_split(\n",
    "    df: pd.DataFrame,\n",
    "    percentages: np.ndarray,\n",
    "    random_seed: int = 42,\n",
    "    target_column: str = \"fuel_efficiency_mpg\",\n",
    ") -> tuple[\n",
    "    pd.DataFrame, pd.DataFrame, pd.DataFrame, np.ndarray, np.ndarray, np.ndarray\n",
    "]:\n",
    "    \"\"\"Perform train/validation/test spli\n",
    "\n",
    "    Args:\n",
    "        df (pd.DataFrame): The raw data\n",
    "        percentages (np.ndarray): Array of fractions of total number of items to use\n",
    "            for each section, so [0.1,0.2,0.7] corresponds to 10% validation,\n",
    "            20% test, 70% train\n",
    "\n",
    "        random_seed (int, optional): Random seed to use. Defaults to 42.\n",
    "\n",
    "    Returns:\n",
    "        Tuple[ pd.DataFrame, pd.DataFrame, pd.DataFrame, np.ndarray, np.ndarray, np.ndarray ]:\n",
    "            The train,validation,test data frames and dependent variables\n",
    "    \"\"\"\n",
    "    n = len(df)\n",
    "    idx = np.arange(n)\n",
    "    np.random.seed(random_seed)\n",
    "    assert np.abs(np.sum(percentages) - 1) < 1e-10, \"Percentages must add to 1\"\n",
    "    np.random.shuffle(idx)\n",
    "    n_val = int(n * percentages[0])\n",
    "    n_test = int(n * percentages[1])\n",
    "    n_train = n - n_val - n_test\n",
    "    df_train = df.iloc[idx[:n_train]]\n",
    "    df_val = df.iloc[idx[n_train : n_train + n_val]]\n",
    "    df_test = df.iloc[idx[n_train + n_val :]]\n",
    "    df_train = df_train.reset_index(drop=True)\n",
    "    df_val = df_val.reset_index(drop=True)\n",
    "    df_test = df_test.reset_index(drop=True)\n",
    "    y_train = df_train[target_column].values\n",
    "    y_val = df_val[target_column].values\n",
    "    y_test = df_test[target_column].values\n",
    "    # Remove the target variable from the dataframe\n",
    "    df_train.drop(columns=[target_column], inplace=True)\n",
    "    df_val.drop(columns=[target_column], inplace=True)\n",
    "    df_test.drop(columns=[target_column], inplace=True)\n",
    "    return df_train, df_val, df_test, y_train, y_val, y_test"
   ]
  },
  {
   "cell_type": "code",
   "execution_count": null,
   "id": "c42c79bf",
   "metadata": {},
   "outputs": [],
   "source": [
    "percentages = np.array([0.2, 0.2, 0.6])\n",
    "df_train, df_val, df_test, y_train, y_val, y_test = val_test_train_split(\n",
    "    df, percentages\n",
    ")"
   ]
  },
  {
   "cell_type": "code",
   "execution_count": null,
   "id": "e4c3292a",
   "metadata": {},
   "outputs": [],
   "source": [
    "def train_linear_regression(\n",
    "    X: np.ndarray, y: np.ndarray, r: float = 0.001\n",
    ") -> tuple[float, np.ndarray]:\n",
    "    \"\"\"Perform linear regression with design matrix X and\n",
    "    target variable y. Optionally can do L2 regularization.\n",
    "\n",
    "    Args:\n",
    "        X (np.ndarray): The design matrix, *without* the column of 1s\n",
    "        y (np.ndarray): The target variable\n",
    "        r (float, optional): Regularization parameter. Defaults to 0.001.\n",
    "\n",
    "    Returns:\n",
    "        Tuple[float, np.ndarray]: bias term, rest of weights\n",
    "    \"\"\"\n",
    "    ones = np.ones(X.shape[0])\n",
    "    X = np.column_stack([ones, X])\n",
    "\n",
    "    XTX = X.T @ X\n",
    "    XTX = XTX + r * np.eye(XTX.shape[0])\n",
    "    XTX_inv = np.linalg.inv(XTX)\n",
    "    w_full = XTX_inv @ X.T @ y\n",
    "\n",
    "    return w_full[0], w_full[1:]\n",
    "\n",
    "\n",
    "def prepare_X(\n",
    "    df: pd.DataFrame,\n",
    "    columns_to_fill: list[str] = [\"horsepower\"],\n",
    "    fill_values: np.ndarray | None = None,\n",
    ") -> np.ndarray:\n",
    "    \"\"\"Prepare the design matrix. Will fill any missing values\n",
    "\n",
    "    Args:\n",
    "        df (pd.DataFrame): The data frame\n",
    "        columns_to_fill (List[str], optional): Columns to fill. Defaults to [\"horsepower\"].\n",
    "        fill_values (np.ndarray | None, optional): Which value to use to replace nans.\n",
    "            Should be the same shape as columns_to_fill. Defaults to None.\n",
    "\n",
    "    Returns:\n",
    "        np.ndarray: The design matrix (no 1s)\n",
    "    \"\"\"\n",
    "    df = df.copy()\n",
    "    for i, col in enumerate(columns_to_fill):\n",
    "        fill_value = fill_values[i]\n",
    "        df[col] = df[col].fillna(fill_value)\n",
    "\n",
    "    X = df.values\n",
    "\n",
    "    return X\n",
    "\n",
    "\n",
    "def construct_prediction(w0: float, w_m: np.ndarray, X: np.ndarray) -> np.ndarray:\n",
    "    return w0 + np.dot(X, w_m)\n",
    "\n",
    "\n",
    "def rmse(y: np.ndarray, y_pred: np.ndarray) -> float:\n",
    "    se = (y - y_pred) ** 2\n",
    "    mse = se.mean()\n",
    "    return np.sqrt(mse)"
   ]
  },
  {
   "cell_type": "code",
   "execution_count": 18,
   "id": "25fb65a9",
   "metadata": {},
   "outputs": [],
   "source": [
    "X_train_mean = prepare_X(df_train, fill_values=[df_train[\"horsepower\"].mean()])\n",
    "X_train_zero = prepare_X(df_train, fill_values=[0.0])\n",
    "X_val_zero = prepare_X(df_val, fill_values=[0.0])\n",
    "X_val_mean = prepare_X(df_val, fill_values=[df_train[\"horsepower\"].mean()])"
   ]
  },
  {
   "cell_type": "code",
   "execution_count": 19,
   "id": "b6a0a984",
   "metadata": {},
   "outputs": [],
   "source": [
    "w0_m, w_m = train_linear_regression(X_train_mean, y_train)"
   ]
  },
  {
   "cell_type": "code",
   "execution_count": 20,
   "id": "3d92e644",
   "metadata": {},
   "outputs": [],
   "source": [
    "w0_z, w_z = train_linear_regression(X_train_zero, y_train)"
   ]
  },
  {
   "cell_type": "code",
   "execution_count": null,
   "id": "bf1e68fd",
   "metadata": {},
   "outputs": [],
   "source": [
    "y_p_m = construct_prediction(w0_m, w_m, X_val_mean)\n",
    "y_p_z = construct_prediction(w0_z, w_z, X_val_zero)"
   ]
  },
  {
   "cell_type": "code",
   "execution_count": null,
   "id": "911aa9dd",
   "metadata": {},
   "outputs": [
    {
     "name": "stdout",
     "output_type": "stream",
     "text": [
      "RMSE for data filled with mean: 0.46355110997221366\n",
      "RMSE for data filled with zero: 0.5173314578306417\n"
     ]
    }
   ],
   "source": [
    "print(f\"RMSE for data filled with mean: {rmse(y_val, y_p_m)}\")\n",
    "print(f\"RMSE for data filled with zero: {rmse(y_val, y_p_z)}\")"
   ]
  },
  {
   "cell_type": "markdown",
   "id": "cd0fb956",
   "metadata": {},
   "source": [
    "# Question 4"
   ]
  },
  {
   "cell_type": "code",
   "execution_count": 25,
   "id": "cf1dc35c",
   "metadata": {},
   "outputs": [],
   "source": [
    "rs = np.array([0, 0.01, 0.1, 1, 5, 10, 100])"
   ]
  },
  {
   "cell_type": "code",
   "execution_count": null,
   "id": "25967496",
   "metadata": {},
   "outputs": [],
   "source": [
    "rmses = []\n",
    "for r in rs:\n",
    "    w0, w = train_linear_regression(X_train_zero, y_train, r=r)\n",
    "    y_pred = construct_prediction(w0, w, X_val_zero)\n",
    "    rmse_score = rmse(y_val, y_pred)\n",
    "    rmses.append(np.round(rmse_score, 2))"
   ]
  },
  {
   "cell_type": "code",
   "execution_count": 42,
   "id": "918506f0",
   "metadata": {},
   "outputs": [
    {
     "data": {
      "text/plain": [
       "[np.float64(0.52),\n",
       " np.float64(0.52),\n",
       " np.float64(0.52),\n",
       " np.float64(0.52),\n",
       " np.float64(0.52),\n",
       " np.float64(0.52),\n",
       " np.float64(0.52)]"
      ]
     },
     "execution_count": 42,
     "metadata": {},
     "output_type": "execute_result"
    }
   ],
   "source": [
    "rmses"
   ]
  },
  {
   "cell_type": "markdown",
   "id": "a0c06ab2",
   "metadata": {},
   "source": [
    "# Question 5"
   ]
  },
  {
   "cell_type": "code",
   "execution_count": null,
   "id": "6ed684c3",
   "metadata": {},
   "outputs": [],
   "source": [
    "seeds = [0, 1, 2, 3, 4, 5, 6, 7, 8, 9]\n",
    "rmses = []\n",
    "for seed in seeds:\n",
    "    df_train, df_val, df_test, y_train, y_val, y_test = val_test_train_split(\n",
    "        df, percentages, random_seed=seed\n",
    "    )\n",
    "    X_train = prepare_X(df_train, fill_values=np.array([0.0]))\n",
    "    X_val = prepare_X(df_val, fill_values=np.array([0.0]))\n",
    "    w0, w = train_linear_regression(X_train, y_train, r=0.0)\n",
    "    y_p = w0 + X_val.dot(w)\n",
    "    rmses.append(rmse(y_val, y_p))\n",
    "rmses = np.array(rmses)"
   ]
  },
  {
   "cell_type": "code",
   "execution_count": 46,
   "id": "698d3ec7",
   "metadata": {},
   "outputs": [
    {
     "data": {
      "text/plain": [
       "np.float64(0.007)"
      ]
     },
     "execution_count": 46,
     "metadata": {},
     "output_type": "execute_result"
    }
   ],
   "source": [
    "np.round(np.std(rmses), 3)"
   ]
  },
  {
   "cell_type": "markdown",
   "id": "17b037bb",
   "metadata": {},
   "source": [
    "# Question 6"
   ]
  },
  {
   "cell_type": "code",
   "execution_count": 47,
   "id": "b1884cb3",
   "metadata": {},
   "outputs": [],
   "source": [
    "df_train, df_val, df_test, y_train, y_val, y_test = val_test_train_split(\n",
    "    df, percentages, random_seed=9\n",
    ")"
   ]
  },
  {
   "cell_type": "code",
   "execution_count": 52,
   "id": "8f5b71d7",
   "metadata": {},
   "outputs": [],
   "source": [
    "df_train_combined = pd.concat((df_train, df_val))\n",
    "X_train_combined = prepare_X(df_train_combined, fill_values=np.array([0.0]))\n",
    "y_train_combined = np.hstack((y_train, y_val))\n",
    "\n",
    "X_test = prepare_X(df_test, fill_values=np.array([0.0]))"
   ]
  },
  {
   "cell_type": "code",
   "execution_count": 53,
   "id": "8229f510",
   "metadata": {},
   "outputs": [],
   "source": [
    "w0, w = train_linear_regression(X_train, y_train, r=0.001)\n",
    "y_p = construct_prediction(w0, w, X_test)"
   ]
  },
  {
   "cell_type": "code",
   "execution_count": 55,
   "id": "f0558b38",
   "metadata": {},
   "outputs": [
    {
     "data": {
      "text/plain": [
       "np.float64(0.516)"
      ]
     },
     "execution_count": 55,
     "metadata": {},
     "output_type": "execute_result"
    }
   ],
   "source": [
    "np.round(rmse(y_test, y_p), 3)"
   ]
  },
  {
   "cell_type": "code",
   "execution_count": null,
   "id": "a044962b",
   "metadata": {},
   "outputs": [],
   "source": []
  }
 ],
 "metadata": {
  "kernelspec": {
   "display_name": ".mlzoomcamp",
   "language": "python",
   "name": "python3"
  },
  "language_info": {
   "codemirror_mode": {
    "name": "ipython",
    "version": 3
   },
   "file_extension": ".py",
   "mimetype": "text/x-python",
   "name": "python",
   "nbconvert_exporter": "python",
   "pygments_lexer": "ipython3",
   "version": "3.13.2"
  }
 },
 "nbformat": 4,
 "nbformat_minor": 5
}
